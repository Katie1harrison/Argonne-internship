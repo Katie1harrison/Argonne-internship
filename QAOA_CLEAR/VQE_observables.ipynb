{
 "cells": [
  {
   "cell_type": "code",
   "execution_count": 1,
   "id": "9c238604-5e42-4a53-a2bc-3412c403d4b7",
   "metadata": {},
   "outputs": [],
   "source": [
    "import re\n",
    "import qiskit\n",
    "import numpy as np\n",
    "from typing import List\n",
    "from qiskit import *\n"
   ]
  },
  {
   "cell_type": "code",
   "execution_count": 2,
   "id": "f99894eb",
   "metadata": {},
   "outputs": [],
   "source": [
    "from circuit_generator import generate_opt_circuit, construct_qcc_circuit\n",
    "from fast_generator import fc_tree_commute_recur_lookahead_fast, update_observables, simulate_expectationval\n",
    "from utilities import compare_lists\n"
   ]
  },
  {
   "cell_type": "code",
   "execution_count": 3,
   "id": "feac7833",
   "metadata": {},
   "outputs": [],
   "source": [
    "# test_observables = ['ZZZZZZZZ', 'XXXXYYYY', 'ZYZIXYZI', 'XYZXYZII']\n",
    "# test_paulis = ['XXIIIIXY', 'IIXXXYII', 'IXXIXIIY', 'XIIXIXYI',\n",
    "#                   'XXIIXYII', 'IXIXIXIY', 'XIXIXIYI', 'IIXXIIXY']\n",
    "# test_params = [1.16692654, 0.27223177, -0.93402707, -0.92067998, 0.06852241, -0.42444632, -0.41270851, -0.01068001]"
   ]
  },
  {
   "cell_type": "code",
   "execution_count": 4,
   "id": "d4ceddda",
   "metadata": {},
   "outputs": [],
   "source": [
    "#simplified two strings:\n",
    "test_observables = ['XXXXXX', 'YYYYYY', 'XYXYXY', 'YXYXYX', 'YYYXXX', 'XXXYYY', 'ZZZZZZ', 'ZZIIII', 'IIZZII', 'IIIIZZ', 'XXXXXZ','XXXXZZ', 'XXXZZZ','XXZZZZ','XZZZZZ','ZZZXXX']\n",
    "test_paulis = ['XXXXXY', 'XXXIYI', 'IXIXXY', 'IXIIYI', 'IXXIXY', 'XXIXYI', 'IIIXIY', 'XIYIII']\n",
    "test_params = [0.0944527, 0.04799566, -0.0590973, -0.05908328, 0.04114604, 0.02695483, 0.02604318, 0.03485649]"
   ]
  },
  {
   "cell_type": "code",
   "execution_count": 5,
   "id": "f68a81ee",
   "metadata": {},
   "outputs": [],
   "source": [
    "from benchmarks.UCCSD_entanglers import generate_UCCSD_entanglers"
   ]
  },
  {
   "cell_type": "code",
   "execution_count": 6,
   "id": "898ad66e",
   "metadata": {},
   "outputs": [
    {
     "data": {
      "text/plain": [
       "40"
      ]
     },
     "execution_count": 6,
     "metadata": {},
     "output_type": "execute_result"
    }
   ],
   "source": [
    "#first generate the original hamiltonian simulation circuit\n",
    "origin_qc = construct_qcc_circuit(entanglers = test_paulis, params = test_params, barrier=False)\n",
    "origin_qc.count_ops()['cx']"
   ]
  },
  {
   "cell_type": "code",
   "execution_count": 7,
   "id": "fb631aa5",
   "metadata": {},
   "outputs": [
    {
     "data": {
      "text/plain": [
       "40"
      ]
     },
     "execution_count": 7,
     "metadata": {},
     "output_type": "execute_result"
    }
   ],
   "source": [
    "#generate the qiskit optimized circuit\n",
    "origin_qiskit = transpile(origin_qc, optimization_level = 3, basis_gates = [\"cx\", \"sx\", \"x\", \"rz\"])\n",
    "origin_qiskit.count_ops()['cx']"
   ]
  },
  {
   "cell_type": "code",
   "execution_count": 8,
   "id": "01689845",
   "metadata": {},
   "outputs": [
    {
     "name": "stdout",
     "output_type": "stream",
     "text": [
      "XXXXXX\n",
      "YYYYYY\n",
      "YXYXYX\n",
      "XYXYXY\n",
      "XXXYYY\n",
      "YYYXXX\n",
      "ZZZZZZ\n",
      "ZZZZZZ\n",
      "ZZZZZZ\n",
      "ZZZZZZ\n",
      "ZXXXXX\n",
      "ZZXXXX\n",
      "ZZZXXX\n",
      "ZZZZXX\n",
      "ZZZZZX\n",
      "XXXZZZ\n"
     ]
    }
   ],
   "source": [
    "#simulate the circuit and measure the expectation values\n",
    "orign_expect_vals = []\n",
    "for obs in test_observables:\n",
    "    expectation_val = simulate_expectationval(origin_qc, observable=obs, shots=100000)\n",
    "    orign_expect_vals.append(expectation_val)"
   ]
  },
  {
   "cell_type": "code",
   "execution_count": 9,
   "id": "b680415c",
   "metadata": {},
   "outputs": [
    {
     "name": "stdout",
     "output_type": "stream",
     "text": [
      "[0.09236, -0.0952, 0.004, -0.00248, 0.00554, 0.00378, 1.0, 0.99494, 0.9948, 0.9964, 0.00258, -0.0015, 0.00202, 0.00324, -0.00714, -0.00454]\n"
     ]
    }
   ],
   "source": [
    "print(orign_expect_vals)"
   ]
  },
  {
   "cell_type": "code",
   "execution_count": null,
   "id": "458f2587",
   "metadata": {},
   "outputs": [],
   "source": []
  },
  {
   "cell_type": "code",
   "execution_count": 10,
   "id": "e1594565",
   "metadata": {},
   "outputs": [],
   "source": [
    "#Then we run QuCLEAR to optimize the circuit\n",
    "opt_qc, append_clifford, sorted_entanglers = fc_tree_commute_recur_lookahead_fast(entanglers=test_paulis, params=test_params, barrier=False)\n"
   ]
  },
  {
   "cell_type": "code",
   "execution_count": 11,
   "id": "e571a031",
   "metadata": {},
   "outputs": [
    {
     "data": {
      "text/plain": [
       "17"
      ]
     },
     "execution_count": 11,
     "metadata": {},
     "output_type": "execute_result"
    }
   ],
   "source": [
    "#QuCLEAR generates the optimized circuit with reduced number of CNOT gates\n",
    "opt_qc.count_ops()['cx']"
   ]
  },
  {
   "cell_type": "code",
   "execution_count": 12,
   "id": "7148e329",
   "metadata": {},
   "outputs": [
    {
     "data": {
      "text/plain": [
       "OrderedDict([('cx', 20), ('h', 18), ('s', 9), ('x', 4), ('swap', 2), ('y', 1)])"
      ]
     },
     "execution_count": 12,
     "metadata": {},
     "output_type": "execute_result"
    }
   ],
   "source": [
    "append_clifford.count_ops()"
   ]
  },
  {
   "cell_type": "code",
   "execution_count": 13,
   "id": "1d0cfcc0",
   "metadata": {},
   "outputs": [
    {
     "data": {
      "text/html": [
       "<pre style=\"word-wrap: normal;white-space: pre;background: #fff0;line-height: 1.1;font-family: &quot;Courier New&quot;,Courier,monospace\">                    ┌───┐┌───┐                  ┌───┐┌───┐     ┌───┐┌───┐     »\n",
       "q_0: ────────────■──┤ H ├┤ H ├──────X───────────┤ X ├┤ H ├──■──┤ H ├┤ S ├─────»\n",
       "               ┌─┴─┐├───┤├───┤┌───┐ │      ┌───┐└─┬─┘└───┘  │  └───┘├───┤┌───┐»\n",
       "q_1: ───────■──┤ X ├┤ H ├┤ S ├┤ H ├─┼──────┤ X ├──┼─────────┼────■──┤ S ├┤ H ├»\n",
       "     ┌───┐  │  └───┘└───┘└───┘└───┘ │ ┌───┐└─┬─┘  │       ┌─┴─┐┌─┴─┐└───┘├───┤»\n",
       "q_2: ┤ H ├──┼───────────────────────X─┤ X ├──┼────■───────┤ X ├┤ X ├──■──┤ X ├»\n",
       "     └───┘┌─┴─┐┌───┐┌───┐             └─┬─┘  │            └───┘└───┘┌─┴─┐├───┤»\n",
       "q_3: ──■──┤ X ├┤ S ├┤ H ├───────────────┼────■──────────────────────┤ X ├┤ S ├»\n",
       "       │  ├───┤└───┘└───┘               │                           └───┘└───┘»\n",
       "q_4: ──┼──┤ H ├─────────────────────────┼─────────────────────────────────────»\n",
       "     ┌─┴─┐├───┤┌───┐┌───┐               │                                     »\n",
       "q_5: ┤ X ├┤ H ├┤ S ├┤ H ├───────────────■─────────────────────────────────────»\n",
       "     └───┘└───┘└───┘└───┘                                                     »\n",
       "«     ┌───┐                    ┌───┐                            ┌───┐┌───┐     »\n",
       "«q_0: ┤ X ├───────■────────────┤ X ├───────■─────────────X──────┤ X ├┤ H ├──■──»\n",
       "«     └─┬─┘       │  ┌───┐┌───┐└─┬─┘     ┌─┴─┐     ┌───┐ │      └─┬─┘└───┘  │  »\n",
       "«q_1: ──■─────────┼──┤ X ├┤ H ├──┼────■──┤ X ├──■──┤ X ├─┼────────┼─────────┼──»\n",
       "«                 │  └─┬─┘└───┘  │    │  └───┘  │  └───┘ │        │         │  »\n",
       "«q_2: ────────────┼────┼─────────┼────┼─────────┼────────┼────────┼─────────┼──»\n",
       "«     ┌───┐┌───┐┌─┴─┐  │  ┌───┐  │    │         │        │        │         │  »\n",
       "«q_3: ┤ H ├┤ X ├┤ X ├──■──┤ Y ├──┼────┼─────────┼────────┼────────┼─────────┼──»\n",
       "«     └───┘└─┬─┘└───┘     └───┘  │  ┌─┴─┐       │        │ ┌───┐  │  ┌───┐  │  »\n",
       "«q_4: ───────┼───────────────────┼──┤ X ├───────┼────────┼─┤ X ├──┼──┤ X ├──┼──»\n",
       "«            │  ┌───┐┌───┐       │  └───┘     ┌─┴─┐┌───┐ │ └─┬─┘  │  └───┘┌─┴─┐»\n",
       "«q_5: ───────■──┤ S ├┤ H ├───────■────────────┤ X ├┤ H ├─X───■────■───────┤ X ├»\n",
       "«               └───┘└───┘                    └───┘└───┘                  └───┘»\n",
       "«     ┌───┐┌───┐┌───┐\n",
       "«q_0: ┤ S ├┤ H ├┤ S ├\n",
       "«     └───┘└───┘└───┘\n",
       "«q_1: ───────────────\n",
       "«                    \n",
       "«q_2: ───────────────\n",
       "«                    \n",
       "«q_3: ───────────────\n",
       "«                    \n",
       "«q_4: ───────────────\n",
       "«     ┌───┐          \n",
       "«q_5: ┤ X ├──────────\n",
       "«     └───┘          </pre>"
      ],
      "text/plain": [
       "                    ┌───┐┌───┐                  ┌───┐┌───┐     ┌───┐┌───┐     »\n",
       "q_0: ────────────■──┤ H ├┤ H ├──────X───────────┤ X ├┤ H ├──■──┤ H ├┤ S ├─────»\n",
       "               ┌─┴─┐├───┤├───┤┌───┐ │      ┌───┐└─┬─┘└───┘  │  └───┘├───┤┌───┐»\n",
       "q_1: ───────■──┤ X ├┤ H ├┤ S ├┤ H ├─┼──────┤ X ├──┼─────────┼────■──┤ S ├┤ H ├»\n",
       "     ┌───┐  │  └───┘└───┘└───┘└───┘ │ ┌───┐└─┬─┘  │       ┌─┴─┐┌─┴─┐└───┘├───┤»\n",
       "q_2: ┤ H ├──┼───────────────────────X─┤ X ├──┼────■───────┤ X ├┤ X ├──■──┤ X ├»\n",
       "     └───┘┌─┴─┐┌───┐┌───┐             └─┬─┘  │            └───┘└───┘┌─┴─┐├───┤»\n",
       "q_3: ──■──┤ X ├┤ S ├┤ H ├───────────────┼────■──────────────────────┤ X ├┤ S ├»\n",
       "       │  ├───┤└───┘└───┘               │                           └───┘└───┘»\n",
       "q_4: ──┼──┤ H ├─────────────────────────┼─────────────────────────────────────»\n",
       "     ┌─┴─┐├───┤┌───┐┌───┐               │                                     »\n",
       "q_5: ┤ X ├┤ H ├┤ S ├┤ H ├───────────────■─────────────────────────────────────»\n",
       "     └───┘└───┘└───┘└───┘                                                     »\n",
       "«     ┌───┐                    ┌───┐                            ┌───┐┌───┐     »\n",
       "«q_0: ┤ X ├───────■────────────┤ X ├───────■─────────────X──────┤ X ├┤ H ├──■──»\n",
       "«     └─┬─┘       │  ┌───┐┌───┐└─┬─┘     ┌─┴─┐     ┌───┐ │      └─┬─┘└───┘  │  »\n",
       "«q_1: ──■─────────┼──┤ X ├┤ H ├──┼────■──┤ X ├──■──┤ X ├─┼────────┼─────────┼──»\n",
       "«                 │  └─┬─┘└───┘  │    │  └───┘  │  └───┘ │        │         │  »\n",
       "«q_2: ────────────┼────┼─────────┼────┼─────────┼────────┼────────┼─────────┼──»\n",
       "«     ┌───┐┌───┐┌─┴─┐  │  ┌───┐  │    │         │        │        │         │  »\n",
       "«q_3: ┤ H ├┤ X ├┤ X ├──■──┤ Y ├──┼────┼─────────┼────────┼────────┼─────────┼──»\n",
       "«     └───┘└─┬─┘└───┘     └───┘  │  ┌─┴─┐       │        │ ┌───┐  │  ┌───┐  │  »\n",
       "«q_4: ───────┼───────────────────┼──┤ X ├───────┼────────┼─┤ X ├──┼──┤ X ├──┼──»\n",
       "«            │  ┌───┐┌───┐       │  └───┘     ┌─┴─┐┌───┐ │ └─┬─┘  │  └───┘┌─┴─┐»\n",
       "«q_5: ───────■──┤ S ├┤ H ├───────■────────────┤ X ├┤ H ├─X───■────■───────┤ X ├»\n",
       "«               └───┘└───┘                    └───┘└───┘                  └───┘»\n",
       "«     ┌───┐┌───┐┌───┐\n",
       "«q_0: ┤ S ├┤ H ├┤ S ├\n",
       "«     └───┘└───┘└───┘\n",
       "«q_1: ───────────────\n",
       "«                    \n",
       "«q_2: ───────────────\n",
       "«                    \n",
       "«q_3: ───────────────\n",
       "«                    \n",
       "«q_4: ───────────────\n",
       "«     ┌───┐          \n",
       "«q_5: ┤ X ├──────────\n",
       "«     └───┘          "
      ]
     },
     "execution_count": 13,
     "metadata": {},
     "output_type": "execute_result"
    }
   ],
   "source": [
    "append_clifford.draw()"
   ]
  },
  {
   "cell_type": "code",
   "execution_count": 14,
   "id": "84660b93",
   "metadata": {},
   "outputs": [
    {
     "name": "stdout",
     "output_type": "stream",
     "text": [
      "['XIIYZZ', 'XXIYZI', 'XXZXZI', 'XIZXZZ', 'XXZXZZ', 'XIZXZI', 'IXIIIZ', 'ZXXXII', 'XIYXXI', 'YIZIXZ', 'XIIYZY', 'XZYYYY', 'ZZXYIZ', 'IZIYYY', 'XXIXXY', 'YYXIZZ']\n"
     ]
    }
   ],
   "source": [
    "# based on the observables and the appended clifford circuit, we can calculate the updated observables\n",
    "updated_signs, updated_observables = update_observables(test_observables, [append_clifford])\n",
    "print(updated_observables)"
   ]
  },
  {
   "cell_type": "code",
   "execution_count": 15,
   "id": "dad1314f",
   "metadata": {},
   "outputs": [
    {
     "name": "stdout",
     "output_type": "stream",
     "text": [
      "ZZYZZX\n",
      "ZZYZXX\n"
     ]
    },
    {
     "name": "stdout",
     "output_type": "stream",
     "text": [
      "ZZXZXX\n",
      "ZZXZZX\n",
      "ZZXZXX\n",
      "ZZXZZX\n",
      "ZZZZXZ\n",
      "ZZXXXZ\n",
      "ZXXYZX\n",
      "ZXZZZY\n",
      "YZYZZX\n",
      "YYYYZX\n",
      "ZZYXZZ\n",
      "YYYZZZ\n",
      "YXXZXX\n",
      "ZZZXYY\n"
     ]
    }
   ],
   "source": [
    "#Run the same circuit simulation process for the updated observables\n",
    "opt_expect_vals = []\n",
    "for idx, obs in enumerate(updated_observables):\n",
    "    expectation_val = simulate_expectationval(opt_qc, observable=obs, shots=100000)\n",
    "    if updated_signs[idx] == '+1':\n",
    "        updated_sign = 1\n",
    "    elif updated_signs[idx] == '-1':\n",
    "        updated_sign = -1\n",
    "    else:\n",
    "        raise Exception(\"incorrect sign\")\n",
    "    opt_expect_vals.append(updated_sign * expectation_val)"
   ]
  },
  {
   "cell_type": "code",
   "execution_count": 16,
   "id": "939c1e1c",
   "metadata": {},
   "outputs": [
    {
     "data": {
      "text/plain": [
       "[0.09224,\n",
       " -0.09296,\n",
       " 0.00274,\n",
       " 0.00122,\n",
       " 0.00286,\n",
       " -0.0002,\n",
       " 1.0,\n",
       " 0.99556,\n",
       " 0.99534,\n",
       " 0.99642,\n",
       " 0.0025,\n",
       " -0.00154,\n",
       " 0.00702,\n",
       " 0.00028,\n",
       " -0.00018,\n",
       " -0.00134]"
      ]
     },
     "execution_count": 16,
     "metadata": {},
     "output_type": "execute_result"
    }
   ],
   "source": [
    "opt_expect_vals"
   ]
  },
  {
   "cell_type": "code",
   "execution_count": 17,
   "id": "f5775ea8",
   "metadata": {},
   "outputs": [
    {
     "data": {
      "text/plain": [
       "[0.09236,\n",
       " -0.0952,\n",
       " 0.004,\n",
       " -0.00248,\n",
       " 0.00554,\n",
       " 0.00378,\n",
       " 1.0,\n",
       " 0.99494,\n",
       " 0.9948,\n",
       " 0.9964,\n",
       " 0.00258,\n",
       " -0.0015,\n",
       " 0.00202,\n",
       " 0.00324,\n",
       " -0.00714,\n",
       " -0.00454]"
      ]
     },
     "execution_count": 17,
     "metadata": {},
     "output_type": "execute_result"
    }
   ],
   "source": [
    "orign_expect_vals"
   ]
  },
  {
   "cell_type": "markdown",
   "id": "bc299825",
   "metadata": {},
   "source": [
    "Validate the results"
   ]
  },
  {
   "cell_type": "code",
   "execution_count": 18,
   "id": "acb87998",
   "metadata": {},
   "outputs": [
    {
     "name": "stdout",
     "output_type": "stream",
     "text": [
      "Lists differences are within acceptable limits.\n"
     ]
    }
   ],
   "source": [
    "try:\n",
    "    compare_lists(orign_expect_vals, opt_expect_vals, tolerance = 0.01)\n",
    "    print(\"Lists differences are within acceptable limits.\")\n",
    "except ValueError as e:\n",
    "    print(e)"
   ]
  },
  {
   "cell_type": "code",
   "execution_count": null,
   "id": "47388103",
   "metadata": {},
   "outputs": [],
   "source": []
  },
  {
   "cell_type": "code",
   "execution_count": null,
   "id": "d2df91c7",
   "metadata": {},
   "outputs": [],
   "source": []
  },
  {
   "cell_type": "code",
   "execution_count": null,
   "id": "e9da0737",
   "metadata": {},
   "outputs": [],
   "source": []
  },
  {
   "cell_type": "code",
   "execution_count": null,
   "id": "9eb04f6e",
   "metadata": {},
   "outputs": [],
   "source": []
  }
 ],
 "metadata": {
  "kernelspec": {
   "display_name": "Python 3 (ipykernel)",
   "language": "python",
   "name": "python3"
  },
  "language_info": {
   "codemirror_mode": {
    "name": "ipython",
    "version": 3
   },
   "file_extension": ".py",
   "mimetype": "text/x-python",
   "name": "python",
   "nbconvert_exporter": "python",
   "pygments_lexer": "ipython3",
   "version": "3.10.14"
  }
 },
 "nbformat": 4,
 "nbformat_minor": 5
}
